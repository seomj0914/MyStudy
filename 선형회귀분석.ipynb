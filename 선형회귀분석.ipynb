{
  "nbformat": 4,
  "nbformat_minor": 0,
  "metadata": {
    "colab": {
      "provenance": [],
      "authorship_tag": "ABX9TyMC7ezX09hhCtPQisR/MuIq",
      "include_colab_link": true
    },
    "kernelspec": {
      "name": "python3",
      "display_name": "Python 3"
    },
    "language_info": {
      "name": "python"
    }
  },
  "cells": [
    {
      "cell_type": "markdown",
      "metadata": {
        "id": "view-in-github",
        "colab_type": "text"
      },
      "source": [
        "<a href=\"https://colab.research.google.com/github/seomj0914/MyStudy/blob/main/%EC%84%A0%ED%98%95%ED%9A%8C%EA%B7%80%EB%B6%84%EC%84%9D.ipynb\" target=\"_parent\"><img src=\"https://colab.research.google.com/assets/colab-badge.svg\" alt=\"Open In Colab\"/></a>"
      ]
    },
    {
      "cell_type": "code",
      "execution_count": 1,
      "metadata": {
        "colab": {
          "base_uri": "https://localhost:8080/"
        },
        "id": "Cb9CqA2zv00l",
        "outputId": "22bb8430-2478-4a21-a7ca-a0611d109de1"
      },
      "outputs": [
        {
          "output_type": "stream",
          "name": "stdout",
          "text": [
            "       외관  유용성   편의성   만족감\n",
            "0    4.00  2.8  3.00  3.00\n",
            "1    5.00  1.0  3.00  5.00\n",
            "2    4.67  3.0  3.00  4.00\n",
            "3    5.00  1.6  4.00  3.00\n",
            "4    5.00  3.2  3.00  5.00\n",
            "..    ...  ...   ...   ...\n",
            "320  1.00  1.0  1.50  1.33\n",
            "321  4.67  3.0  3.75  3.00\n",
            "322  1.00  2.2  3.00  2.33\n",
            "323  5.00  3.0  4.50  5.00\n",
            "324  1.00  1.0  1.50  1.33\n",
            "\n",
            "[325 rows x 4 columns]\n"
          ]
        }
      ],
      "source": [
        "import pandas as pd\n",
        "import numpy as np\n",
        "\n",
        "result=pd.read_csv(\"/content/다중회귀.csv\")\n",
        "result=result[[\"외관\",\"유용성\",\"편의성\",\"만족감\"]]\n",
        "print(result)\n",
        "\n",
        "#x=result[[\"외관\",\"유용성\",\"편의성\"]]\n",
        "#y=result[[\"만족감\"]]"
      ]
    },
    {
      "cell_type": "code",
      "source": [
        "from statsmodels.formula.api import ols\n",
        "import matplotlib.pyplot as plt\n",
        "#ols=> 최소 자승법(Ordinary Least Square) : 선형회귀 그릴때 그 점들 사이의 값을 최소로 계산하기 위해 \n",
        "lr=ols(\"만족감~외관+유용성+편의성\",data=result).fit()\n",
        "print(lr.summary())"
      ],
      "metadata": {
        "colab": {
          "base_uri": "https://localhost:8080/"
        },
        "id": "iLBbiBWcw2Ol",
        "outputId": "84284400-d003-417a-fded-c269e91e3298"
      },
      "execution_count": 6,
      "outputs": [
        {
          "output_type": "stream",
          "name": "stdout",
          "text": [
            "                            OLS Regression Results                            \n",
            "==============================================================================\n",
            "Dep. Variable:                    만족감   R-squared:                       0.237\n",
            "Model:                            OLS   Adj. R-squared:                  0.230\n",
            "Method:                 Least Squares   F-statistic:                     33.21\n",
            "Date:                Sat, 31 Dec 2022   Prob (F-statistic):           1.01e-18\n",
            "Time:                        01:31:27   Log-Likelihood:                -294.47\n",
            "No. Observations:                 325   AIC:                             596.9\n",
            "Df Residuals:                     321   BIC:                             612.1\n",
            "Df Model:                           3                                         \n",
            "Covariance Type:            nonrobust                                         \n",
            "==============================================================================\n",
            "                 coef    std err          t      P>|t|      [0.025      0.975]\n",
            "------------------------------------------------------------------------------\n",
            "Intercept      1.4583      0.197      7.389      0.000       1.070       1.847\n",
            "외관             0.1444      0.031      4.599      0.000       0.083       0.206\n",
            "유용성            0.1737      0.045      3.824      0.000       0.084       0.263\n",
            "편의성            0.2839      0.048      5.866      0.000       0.189       0.379\n",
            "==============================================================================\n",
            "Omnibus:                       35.122   Durbin-Watson:                   1.831\n",
            "Prob(Omnibus):                  0.000   Jarque-Bera (JB):               43.210\n",
            "Skew:                           0.849   Prob(JB):                     4.14e-10\n",
            "Kurtosis:                       3.557   Cond. No.                         34.7\n",
            "==============================================================================\n",
            "\n",
            "Notes:\n",
            "[1] Standard Errors assume that the covariance matrix of the errors is correctly specified.\n"
          ]
        }
      ]
    },
    {
      "cell_type": "markdown",
      "source": [
        "Durbin-Watson : 잔차가 독립적인지 보는거 1.5~2.5사이가 좋음"
      ],
      "metadata": {
        "id": "-0bVDoy6z1KF"
      }
    },
    {
      "cell_type": "markdown",
      "source": [
        "#다중공선성 확인"
      ],
      "metadata": {
        "id": "WSUIQPwM0RlP"
      }
    },
    {
      "cell_type": "code",
      "source": [
        "from patsy import dmatrices\n",
        "from statsmodels.stats.outliers_influence import variance_inflation_factor\n",
        "\n",
        "y,x=dmatrices(\"만족감~외관+유용성+편의성\",result, return_type='dataframe')\n",
        "vif=pd.DataFrame()\n",
        "vif[\"VIF Factor\"]=[variance_inflation_factor(x.values,i) for i in range(x.shape[1])]\n",
        "vif[\"feature\"]=x.columns\n",
        "print(\"x.shape\", x.shape[1])\n",
        "print(\"x.columns\",x.columns)\n",
        "vif"
      ],
      "metadata": {
        "colab": {
          "base_uri": "https://localhost:8080/",
          "height": 211
        },
        "id": "SsaKnKJfybYR",
        "outputId": "990e1ac8-f154-49ec-d375-7304bcd8922f"
      },
      "execution_count": 7,
      "outputs": [
        {
          "output_type": "stream",
          "name": "stdout",
          "text": [
            "x.shape 4\n",
            "x.columns Index(['Intercept', '외관', '유용성', '편의성'], dtype='object')\n"
          ]
        },
        {
          "output_type": "execute_result",
          "data": {
            "text/plain": [
              "   VIF Factor    feature\n",
              "0   34.871388  Intercept\n",
              "1    1.067794         외관\n",
              "2    1.053532        유용성\n",
              "3    1.053753        편의성"
            ],
            "text/html": [
              "\n",
              "  <div id=\"df-e2114c56-aab5-4017-b76e-ed4a2205beb9\">\n",
              "    <div class=\"colab-df-container\">\n",
              "      <div>\n",
              "<style scoped>\n",
              "    .dataframe tbody tr th:only-of-type {\n",
              "        vertical-align: middle;\n",
              "    }\n",
              "\n",
              "    .dataframe tbody tr th {\n",
              "        vertical-align: top;\n",
              "    }\n",
              "\n",
              "    .dataframe thead th {\n",
              "        text-align: right;\n",
              "    }\n",
              "</style>\n",
              "<table border=\"1\" class=\"dataframe\">\n",
              "  <thead>\n",
              "    <tr style=\"text-align: right;\">\n",
              "      <th></th>\n",
              "      <th>VIF Factor</th>\n",
              "      <th>feature</th>\n",
              "    </tr>\n",
              "  </thead>\n",
              "  <tbody>\n",
              "    <tr>\n",
              "      <th>0</th>\n",
              "      <td>34.871388</td>\n",
              "      <td>Intercept</td>\n",
              "    </tr>\n",
              "    <tr>\n",
              "      <th>1</th>\n",
              "      <td>1.067794</td>\n",
              "      <td>외관</td>\n",
              "    </tr>\n",
              "    <tr>\n",
              "      <th>2</th>\n",
              "      <td>1.053532</td>\n",
              "      <td>유용성</td>\n",
              "    </tr>\n",
              "    <tr>\n",
              "      <th>3</th>\n",
              "      <td>1.053753</td>\n",
              "      <td>편의성</td>\n",
              "    </tr>\n",
              "  </tbody>\n",
              "</table>\n",
              "</div>\n",
              "      <button class=\"colab-df-convert\" onclick=\"convertToInteractive('df-e2114c56-aab5-4017-b76e-ed4a2205beb9')\"\n",
              "              title=\"Convert this dataframe to an interactive table.\"\n",
              "              style=\"display:none;\">\n",
              "        \n",
              "  <svg xmlns=\"http://www.w3.org/2000/svg\" height=\"24px\"viewBox=\"0 0 24 24\"\n",
              "       width=\"24px\">\n",
              "    <path d=\"M0 0h24v24H0V0z\" fill=\"none\"/>\n",
              "    <path d=\"M18.56 5.44l.94 2.06.94-2.06 2.06-.94-2.06-.94-.94-2.06-.94 2.06-2.06.94zm-11 1L8.5 8.5l.94-2.06 2.06-.94-2.06-.94L8.5 2.5l-.94 2.06-2.06.94zm10 10l.94 2.06.94-2.06 2.06-.94-2.06-.94-.94-2.06-.94 2.06-2.06.94z\"/><path d=\"M17.41 7.96l-1.37-1.37c-.4-.4-.92-.59-1.43-.59-.52 0-1.04.2-1.43.59L10.3 9.45l-7.72 7.72c-.78.78-.78 2.05 0 2.83L4 21.41c.39.39.9.59 1.41.59.51 0 1.02-.2 1.41-.59l7.78-7.78 2.81-2.81c.8-.78.8-2.07 0-2.86zM5.41 20L4 18.59l7.72-7.72 1.47 1.35L5.41 20z\"/>\n",
              "  </svg>\n",
              "      </button>\n",
              "      \n",
              "  <style>\n",
              "    .colab-df-container {\n",
              "      display:flex;\n",
              "      flex-wrap:wrap;\n",
              "      gap: 12px;\n",
              "    }\n",
              "\n",
              "    .colab-df-convert {\n",
              "      background-color: #E8F0FE;\n",
              "      border: none;\n",
              "      border-radius: 50%;\n",
              "      cursor: pointer;\n",
              "      display: none;\n",
              "      fill: #1967D2;\n",
              "      height: 32px;\n",
              "      padding: 0 0 0 0;\n",
              "      width: 32px;\n",
              "    }\n",
              "\n",
              "    .colab-df-convert:hover {\n",
              "      background-color: #E2EBFA;\n",
              "      box-shadow: 0px 1px 2px rgba(60, 64, 67, 0.3), 0px 1px 3px 1px rgba(60, 64, 67, 0.15);\n",
              "      fill: #174EA6;\n",
              "    }\n",
              "\n",
              "    [theme=dark] .colab-df-convert {\n",
              "      background-color: #3B4455;\n",
              "      fill: #D2E3FC;\n",
              "    }\n",
              "\n",
              "    [theme=dark] .colab-df-convert:hover {\n",
              "      background-color: #434B5C;\n",
              "      box-shadow: 0px 1px 3px 1px rgba(0, 0, 0, 0.15);\n",
              "      filter: drop-shadow(0px 1px 2px rgba(0, 0, 0, 0.3));\n",
              "      fill: #FFFFFF;\n",
              "    }\n",
              "  </style>\n",
              "\n",
              "      <script>\n",
              "        const buttonEl =\n",
              "          document.querySelector('#df-e2114c56-aab5-4017-b76e-ed4a2205beb9 button.colab-df-convert');\n",
              "        buttonEl.style.display =\n",
              "          google.colab.kernel.accessAllowed ? 'block' : 'none';\n",
              "\n",
              "        async function convertToInteractive(key) {\n",
              "          const element = document.querySelector('#df-e2114c56-aab5-4017-b76e-ed4a2205beb9');\n",
              "          const dataTable =\n",
              "            await google.colab.kernel.invokeFunction('convertToInteractive',\n",
              "                                                     [key], {});\n",
              "          if (!dataTable) return;\n",
              "\n",
              "          const docLinkHtml = 'Like what you see? Visit the ' +\n",
              "            '<a target=\"_blank\" href=https://colab.research.google.com/notebooks/data_table.ipynb>data table notebook</a>'\n",
              "            + ' to learn more about interactive tables.';\n",
              "          element.innerHTML = '';\n",
              "          dataTable['output_type'] = 'display_data';\n",
              "          await google.colab.output.renderOutput(dataTable, element);\n",
              "          const docLink = document.createElement('div');\n",
              "          docLink.innerHTML = docLinkHtml;\n",
              "          element.appendChild(docLink);\n",
              "        }\n",
              "      </script>\n",
              "    </div>\n",
              "  </div>\n",
              "  "
            ]
          },
          "metadata": {},
          "execution_count": 7
        }
      ]
    }
  ]
}